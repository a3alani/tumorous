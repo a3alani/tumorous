{
 "cells": [
  {
   "cell_type": "markdown",
   "id": "89746789",
   "metadata": {},
   "source": [
    "# Save Processed Data"
   ]
  },
  {
   "cell_type": "code",
   "execution_count": 12,
   "id": "a84f1bb8",
   "metadata": {},
   "outputs": [
    {
     "name": "stdout",
     "output_type": "stream",
     "text": [
      "Defaulting to user installation because normal site-packages is not writeable\n",
      "Requirement already satisfied: evalseg in /home/a1alani/.local/lib/python3.9/site-packages (2.0.8)\n",
      "Requirement already satisfied: auto-profiler in /home/a1alani/.local/lib/python3.9/site-packages (from evalseg) (2.0)\n",
      "Requirement already satisfied: nibabel in /home/a1alani/.local/lib/python3.9/site-packages (from evalseg) (5.0.1)\n",
      "Requirement already satisfied: matplotlib>=2.2.0 in /opt/conda/lib/python3.9/site-packages (from evalseg) (3.4.2)\n",
      "Requirement already satisfied: edt in /home/a1alani/.local/lib/python3.9/site-packages (from evalseg) (2.3.0)\n",
      "Requirement already satisfied: opencv-python in /opt/conda/lib/python3.9/site-packages (from evalseg) (4.6.0.66)\n",
      "Requirement already satisfied: ipywidgets in /opt/conda/lib/python3.9/site-packages (from evalseg) (7.6.3)\n",
      "Requirement already satisfied: ipython in /opt/conda/lib/python3.9/site-packages (from evalseg) (7.25.0)\n",
      "Requirement already satisfied: connected-components-3d in /home/a1alani/.local/lib/python3.9/site-packages (from evalseg) (3.10.5)\n",
      "Requirement already satisfied: scikit-image in /opt/conda/lib/python3.9/site-packages (from evalseg) (0.18.2)\n",
      "Requirement already satisfied: diskcache in /home/a1alani/.local/lib/python3.9/site-packages (from evalseg) (5.4.0)\n",
      "Requirement already satisfied: pandas>=0.23.3 in /opt/conda/lib/python3.9/site-packages (from evalseg) (1.4.4)\n",
      "Requirement already satisfied: tqdm in /opt/conda/lib/python3.9/site-packages (from evalseg) (4.61.2)\n",
      "Requirement already satisfied: psutil in /opt/conda/lib/python3.9/site-packages (from evalseg) (5.8.0)\n",
      "Requirement already satisfied: sparse in /home/a1alani/.local/lib/python3.9/site-packages (from evalseg) (0.14.0)\n",
      "Requirement already satisfied: typing-extensions in /opt/conda/lib/python3.9/site-packages (from evalseg) (3.7.4.3)\n",
      "Requirement already satisfied: compress-pickle in /home/a1alani/.local/lib/python3.9/site-packages (from evalseg) (2.1.0)\n",
      "Requirement already satisfied: numpy>=1.14.5 in /opt/conda/lib/python3.9/site-packages (from evalseg) (1.19.5)\n",
      "Requirement already satisfied: k3d in /home/a1alani/.local/lib/python3.9/site-packages (from evalseg) (2.15.2)\n",
      "Requirement already satisfied: scipy in /opt/conda/lib/python3.9/site-packages (from evalseg) (1.7.0)\n",
      "Requirement already satisfied: kiwisolver>=1.0.1 in /opt/conda/lib/python3.9/site-packages (from matplotlib>=2.2.0->evalseg) (1.3.1)\n",
      "Requirement already satisfied: pillow>=6.2.0 in /opt/conda/lib/python3.9/site-packages (from matplotlib>=2.2.0->evalseg) (8.3.1)\n",
      "Requirement already satisfied: cycler>=0.10 in /opt/conda/lib/python3.9/site-packages (from matplotlib>=2.2.0->evalseg) (0.10.0)\n",
      "Requirement already satisfied: python-dateutil>=2.7 in /opt/conda/lib/python3.9/site-packages (from matplotlib>=2.2.0->evalseg) (2.8.2)\n",
      "Requirement already satisfied: pyparsing>=2.2.1 in /opt/conda/lib/python3.9/site-packages (from matplotlib>=2.2.0->evalseg) (2.4.7)\n",
      "Requirement already satisfied: six in /opt/conda/lib/python3.9/site-packages (from cycler>=0.10->matplotlib>=2.2.0->evalseg) (1.15.0)\n",
      "Requirement already satisfied: pytz>=2020.1 in /opt/conda/lib/python3.9/site-packages (from pandas>=0.23.3->evalseg) (2021.1)\n",
      "Requirement already satisfied: monotonic>=1.3 in /home/a1alani/.local/lib/python3.9/site-packages (from auto-profiler->evalseg) (1.6)\n",
      "Requirement already satisfied: ipytree in /home/a1alani/.local/lib/python3.9/site-packages (from auto-profiler->evalseg) (0.2.2)\n",
      "Requirement already satisfied: tree-format==0.1.2 in /home/a1alani/.local/lib/python3.9/site-packages (from auto-profiler->evalseg) (0.1.2)\n",
      "Requirement already satisfied: setuptools>=18.5 in /opt/conda/lib/python3.9/site-packages (from ipython->evalseg) (49.6.0.post20210108)\n",
      "Requirement already satisfied: matplotlib-inline in /opt/conda/lib/python3.9/site-packages (from ipython->evalseg) (0.1.2)\n",
      "Requirement already satisfied: pexpect>4.3 in /opt/conda/lib/python3.9/site-packages (from ipython->evalseg) (4.8.0)\n",
      "Requirement already satisfied: backcall in /opt/conda/lib/python3.9/site-packages (from ipython->evalseg) (0.2.0)\n",
      "Requirement already satisfied: decorator in /opt/conda/lib/python3.9/site-packages (from ipython->evalseg) (5.0.9)\n",
      "Requirement already satisfied: pygments in /opt/conda/lib/python3.9/site-packages (from ipython->evalseg) (2.9.0)\n",
      "Requirement already satisfied: pickleshare in /opt/conda/lib/python3.9/site-packages (from ipython->evalseg) (0.7.5)\n",
      "Requirement already satisfied: jedi>=0.16 in /opt/conda/lib/python3.9/site-packages (from ipython->evalseg) (0.18.0)\n",
      "Requirement already satisfied: prompt-toolkit!=3.0.0,!=3.0.1,<3.1.0,>=2.0.0 in /opt/conda/lib/python3.9/site-packages (from ipython->evalseg) (3.0.19)\n",
      "Requirement already satisfied: traitlets>=4.2 in /opt/conda/lib/python3.9/site-packages (from ipython->evalseg) (5.1.0)\n",
      "Requirement already satisfied: parso<0.9.0,>=0.8.0 in /opt/conda/lib/python3.9/site-packages (from jedi>=0.16->ipython->evalseg) (0.8.2)\n",
      "Requirement already satisfied: ptyprocess>=0.5 in /opt/conda/lib/python3.9/site-packages (from pexpect>4.3->ipython->evalseg) (0.7.0)\n",
      "Requirement already satisfied: wcwidth in /opt/conda/lib/python3.9/site-packages (from prompt-toolkit!=3.0.0,!=3.0.1,<3.1.0,>=2.0.0->ipython->evalseg) (0.2.5)\n",
      "Requirement already satisfied: jupyterlab-widgets>=1.0.0 in /opt/conda/lib/python3.9/site-packages (from ipywidgets->evalseg) (1.0.0)\n",
      "Requirement already satisfied: nbformat>=4.2.0 in /opt/conda/lib/python3.9/site-packages (from ipywidgets->evalseg) (5.3.0)\n",
      "Requirement already satisfied: ipykernel>=4.5.1 in /opt/conda/lib/python3.9/site-packages (from ipywidgets->evalseg) (6.0.2)\n",
      "Requirement already satisfied: widgetsnbextension~=3.5.0 in /opt/conda/lib/python3.9/site-packages (from ipywidgets->evalseg) (3.5.1)\n",
      "Requirement already satisfied: tornado<7.0,>=4.2 in /opt/conda/lib/python3.9/site-packages (from ipykernel>=4.5.1->ipywidgets->evalseg) (6.1)\n",
      "Requirement already satisfied: debugpy<2.0,>=1.0.0 in /opt/conda/lib/python3.9/site-packages (from ipykernel>=4.5.1->ipywidgets->evalseg) (1.3.0)\n",
      "Requirement already satisfied: jupyter-client<7.0 in /opt/conda/lib/python3.9/site-packages (from ipykernel>=4.5.1->ipywidgets->evalseg) (6.1.12)\n",
      "Requirement already satisfied: pyzmq>=13 in /opt/conda/lib/python3.9/site-packages (from jupyter-client<7.0->ipykernel>=4.5.1->ipywidgets->evalseg) (22.1.0)\n",
      "Requirement already satisfied: jupyter-core>=4.6.0 in /opt/conda/lib/python3.9/site-packages (from jupyter-client<7.0->ipykernel>=4.5.1->ipywidgets->evalseg) (4.7.1)\n",
      "Requirement already satisfied: jsonschema>=2.6 in /opt/conda/lib/python3.9/site-packages (from nbformat>=4.2.0->ipywidgets->evalseg) (3.2.0)\n",
      "Requirement already satisfied: fastjsonschema in /opt/conda/lib/python3.9/site-packages (from nbformat>=4.2.0->ipywidgets->evalseg) (2.16.2)\n",
      "Requirement already satisfied: pyrsistent>=0.14.0 in /opt/conda/lib/python3.9/site-packages (from jsonschema>=2.6->nbformat>=4.2.0->ipywidgets->evalseg) (0.17.3)\n",
      "Requirement already satisfied: attrs>=17.4.0 in /opt/conda/lib/python3.9/site-packages (from jsonschema>=2.6->nbformat>=4.2.0->ipywidgets->evalseg) (21.2.0)\n",
      "Requirement already satisfied: notebook>=4.4.1 in /opt/conda/lib/python3.9/site-packages (from widgetsnbextension~=3.5.0->ipywidgets->evalseg) (6.4.0)\n",
      "Requirement already satisfied: nbconvert in /opt/conda/lib/python3.9/site-packages (from notebook>=4.4.1->widgetsnbextension~=3.5.0->ipywidgets->evalseg) (7.2.3)\n",
      "Requirement already satisfied: jinja2 in /opt/conda/lib/python3.9/site-packages (from notebook>=4.4.1->widgetsnbextension~=3.5.0->ipywidgets->evalseg) (3.0.1)\n",
      "Requirement already satisfied: Send2Trash>=1.5.0 in /opt/conda/lib/python3.9/site-packages (from notebook>=4.4.1->widgetsnbextension~=3.5.0->ipywidgets->evalseg) (1.7.1)\n",
      "Requirement already satisfied: ipython-genutils in /opt/conda/lib/python3.9/site-packages (from notebook>=4.4.1->widgetsnbextension~=3.5.0->ipywidgets->evalseg) (0.2.0)\n",
      "Requirement already satisfied: prometheus-client in /opt/conda/lib/python3.9/site-packages (from notebook>=4.4.1->widgetsnbextension~=3.5.0->ipywidgets->evalseg) (0.11.0)\n",
      "Requirement already satisfied: terminado>=0.8.3 in /opt/conda/lib/python3.9/site-packages (from notebook>=4.4.1->widgetsnbextension~=3.5.0->ipywidgets->evalseg) (0.10.1)\n",
      "Requirement already satisfied: argon2-cffi in /opt/conda/lib/python3.9/site-packages (from notebook>=4.4.1->widgetsnbextension~=3.5.0->ipywidgets->evalseg) (20.1.0)\n",
      "Requirement already satisfied: cffi>=1.0.0 in /opt/conda/lib/python3.9/site-packages (from argon2-cffi->notebook>=4.4.1->widgetsnbextension~=3.5.0->ipywidgets->evalseg) (1.14.6)\n",
      "Requirement already satisfied: pycparser in /opt/conda/lib/python3.9/site-packages (from cffi>=1.0.0->argon2-cffi->notebook>=4.4.1->widgetsnbextension~=3.5.0->ipywidgets->evalseg) (2.20)\n",
      "Requirement already satisfied: MarkupSafe>=2.0 in /opt/conda/lib/python3.9/site-packages (from jinja2->notebook>=4.4.1->widgetsnbextension~=3.5.0->ipywidgets->evalseg) (2.1.1)\n",
      "Requirement already satisfied: msgpack in /opt/conda/lib/python3.9/site-packages (from k3d->evalseg) (1.0.2)\n",
      "Requirement already satisfied: traittypes in /home/a1alani/.local/lib/python3.9/site-packages (from k3d->evalseg) (0.2.1)\n",
      "Requirement already satisfied: bleach in /opt/conda/lib/python3.9/site-packages (from nbconvert->notebook>=4.4.1->widgetsnbextension~=3.5.0->ipywidgets->evalseg) (3.3.1)\n",
      "Requirement already satisfied: tinycss2 in /opt/conda/lib/python3.9/site-packages (from nbconvert->notebook>=4.4.1->widgetsnbextension~=3.5.0->ipywidgets->evalseg) (1.2.1)\n",
      "Requirement already satisfied: packaging in /opt/conda/lib/python3.9/site-packages (from nbconvert->notebook>=4.4.1->widgetsnbextension~=3.5.0->ipywidgets->evalseg) (21.0)\n",
      "Requirement already satisfied: defusedxml in /opt/conda/lib/python3.9/site-packages (from nbconvert->notebook>=4.4.1->widgetsnbextension~=3.5.0->ipywidgets->evalseg) (0.7.1)\n",
      "Requirement already satisfied: mistune<3,>=2.0.3 in /opt/conda/lib/python3.9/site-packages (from nbconvert->notebook>=4.4.1->widgetsnbextension~=3.5.0->ipywidgets->evalseg) (2.0.4)\n",
      "Requirement already satisfied: importlib-metadata>=3.6 in /opt/conda/lib/python3.9/site-packages (from nbconvert->notebook>=4.4.1->widgetsnbextension~=3.5.0->ipywidgets->evalseg) (4.6.1)\n",
      "Requirement already satisfied: pandocfilters>=1.4.1 in /opt/conda/lib/python3.9/site-packages (from nbconvert->notebook>=4.4.1->widgetsnbextension~=3.5.0->ipywidgets->evalseg) (1.4.2)\n",
      "Requirement already satisfied: nbclient>=0.5.0 in /opt/conda/lib/python3.9/site-packages (from nbconvert->notebook>=4.4.1->widgetsnbextension~=3.5.0->ipywidgets->evalseg) (0.5.3)\n",
      "Requirement already satisfied: beautifulsoup4 in /opt/conda/lib/python3.9/site-packages (from nbconvert->notebook>=4.4.1->widgetsnbextension~=3.5.0->ipywidgets->evalseg) (4.9.3)\n",
      "Requirement already satisfied: jupyterlab-pygments in /opt/conda/lib/python3.9/site-packages (from nbconvert->notebook>=4.4.1->widgetsnbextension~=3.5.0->ipywidgets->evalseg) (0.1.2)\n",
      "Requirement already satisfied: zipp>=0.5 in /opt/conda/lib/python3.9/site-packages (from importlib-metadata>=3.6->nbconvert->notebook>=4.4.1->widgetsnbextension~=3.5.0->ipywidgets->evalseg) (3.5.0)\n",
      "Requirement already satisfied: async-generator in /opt/conda/lib/python3.9/site-packages (from nbclient>=0.5.0->nbconvert->notebook>=4.4.1->widgetsnbextension~=3.5.0->ipywidgets->evalseg) (1.10)\n",
      "Requirement already satisfied: nest-asyncio in /opt/conda/lib/python3.9/site-packages (from nbclient>=0.5.0->nbconvert->notebook>=4.4.1->widgetsnbextension~=3.5.0->ipywidgets->evalseg) (1.5.1)\n",
      "Requirement already satisfied: soupsieve>1.2 in /opt/conda/lib/python3.9/site-packages (from beautifulsoup4->nbconvert->notebook>=4.4.1->widgetsnbextension~=3.5.0->ipywidgets->evalseg) (2.0.1)\n",
      "Requirement already satisfied: webencodings in /opt/conda/lib/python3.9/site-packages (from bleach->nbconvert->notebook>=4.4.1->widgetsnbextension~=3.5.0->ipywidgets->evalseg) (0.5.1)\n",
      "Requirement already satisfied: networkx>=2.0 in /opt/conda/lib/python3.9/site-packages (from scikit-image->evalseg) (2.5)\n",
      "Requirement already satisfied: imageio>=2.3.0 in /opt/conda/lib/python3.9/site-packages (from scikit-image->evalseg) (2.9.0)\n",
      "Requirement already satisfied: tifffile>=2019.7.26 in /opt/conda/lib/python3.9/site-packages (from scikit-image->evalseg) (2021.7.2)\n",
      "Requirement already satisfied: PyWavelets>=1.1.1 in /opt/conda/lib/python3.9/site-packages (from scikit-image->evalseg) (1.1.1)\n",
      "Requirement already satisfied: numba>=0.49 in /opt/conda/lib/python3.9/site-packages (from sparse->evalseg) (0.53.1)\n",
      "Requirement already satisfied: llvmlite<0.37,>=0.36.0rc1 in /opt/conda/lib/python3.9/site-packages (from numba>=0.49->sparse->evalseg) (0.36.0)\n"
     ]
    }
   ],
   "source": [
    "!pip install evalseg"
   ]
  },
  {
   "cell_type": "code",
   "execution_count": 10,
   "id": "36b51b07",
   "metadata": {},
   "outputs": [
    {
     "name": "stdout",
     "output_type": "stream",
     "text": [
      "Defaulting to user installation because normal site-packages is not writeable\n",
      "Requirement already satisfied: memory_profiler in /home/a1alani/.local/lib/python3.9/site-packages (0.61.0)\n",
      "Requirement already satisfied: psutil in /opt/conda/lib/python3.9/site-packages (from memory_profiler) (5.8.0)\n"
     ]
    }
   ],
   "source": [
    "!pip install memory_profiler"
   ]
  },
  {
   "cell_type": "code",
   "execution_count": 11,
   "id": "359ea48b",
   "metadata": {},
   "outputs": [],
   "source": [
    "import evalseg\n",
    "import numpy as np\n",
    "import os\n",
    "import nibabel as nib\n",
    "import csv\n",
    "import cv2"
   ]
  },
  {
   "cell_type": "markdown",
   "id": "ef1bb523",
   "metadata": {},
   "source": [
    "## Get Ground Truth"
   ]
  },
  {
   "cell_type": "code",
   "execution_count": 5,
   "id": "71e492c3",
   "metadata": {},
   "outputs": [],
   "source": [
    "task = 'Task001_LiverTumor'\n",
    "source = '../CT_with_pkl'\n",
    "# TODO add iteration to go through all Tasks"
   ]
  },
  {
   "cell_type": "code",
   "execution_count": 6,
   "id": "7b2c7096",
   "metadata": {},
   "outputs": [
    {
     "ename": "NameError",
     "evalue": "name 'evalseg' is not defined",
     "output_type": "error",
     "traceback": [
      "\u001b[0;31m---------------------------------------------------------------------------\u001b[0m",
      "\u001b[0;31mNameError\u001b[0m                                 Traceback (most recent call last)",
      "\u001b[0;32m/tmp/ipykernel_110/1519463568.py\u001b[0m in \u001b[0;36m<module>\u001b[0;34m\u001b[0m\n\u001b[0;32m----> 1\u001b[0;31m \u001b[0mdataset\u001b[0m\u001b[0;34m=\u001b[0m\u001b[0mevalseg\u001b[0m\u001b[0;34m.\u001b[0m\u001b[0mio\u001b[0m\u001b[0;34m.\u001b[0m\u001b[0mDataset\u001b[0m\u001b[0;34m(\u001b[0m\u001b[0;34mf'../medical-image-segmentation/{task}'\u001b[0m\u001b[0;34m)\u001b[0m\u001b[0;34m\u001b[0m\u001b[0;34m\u001b[0m\u001b[0m\n\u001b[0m",
      "\u001b[0;31mNameError\u001b[0m: name 'evalseg' is not defined"
     ]
    }
   ],
   "source": [
    "dataset=evalseg.io.Dataset(f'../medical-image-segmentation/{task}')"
   ]
  },
  {
   "cell_type": "code",
   "execution_count": 7,
   "id": "055dd581",
   "metadata": {},
   "outputs": [],
   "source": [
    "def get_raw_gt(n:str):\n",
    "    raw = nib.load(f'{source}/{n}.nii').get_fdata()\n",
    "    gt = dataset.get_groundtruth(n).todense()\n",
    "    #if gt.shape != raw.shape:\n",
    "     #   raise Exception(f\"{n} is not happy\")\n",
    "    return raw, gt"
   ]
  },
  {
   "cell_type": "raw",
   "id": "6a1c3c92",
   "metadata": {},
   "source": [
    "# TODO for loop through all raw datas to and grab corresponding pkl files\n",
    "for file in os.listdir(source):\n",
    "    num = file[0:len(file)-4]\n",
    "    try:\n",
    "        raw, gt = get_raw_gt(num)\n",
    "        \n",
    "        with open(f'./raw_cts/{num}_raw.csv', 'w', newline='') as csvfile:\n",
    "            writer = csv.writer(csvfile)\n",
    "            writer.writerows(raw)\n",
    "        with open(f'./ground_truth/{num}_gt.csv', 'w', newline='') as csvfile:\n",
    "            writer = csv.writer(csvfile)\n",
    "            writer.writerows(gt)\n",
    "    except:\n",
    "      print(f\"{num} is not happy\")"
   ]
  },
  {
   "cell_type": "code",
   "execution_count": 119,
   "id": "7ee15eaf",
   "metadata": {},
   "outputs": [],
   "source": [
    "file = '/home/ntaleongpong/public/medical-image-segmentation/Task001_LiverTumor/GroundTruth/115.pkl'\n",
    "file = '/home/ntaleongpong/public/medical-image-segmentation/Task001_LiverTumor/CT/115.nii'\n"
   ]
  },
  {
   "cell_type": "code",
   "execution_count": 166,
   "id": "0ebe24e9",
   "metadata": {},
   "outputs": [],
   "source": [
    "raw, gt = get_raw_gt(\"219\")\n",
    "raw = np.asarray(raw.imag)\n",
    "gt = np.asarray(gt.imag)"
   ]
  },
  {
   "cell_type": "code",
   "execution_count": 136,
   "id": "3080d344",
   "metadata": {},
   "outputs": [
    {
     "data": {
      "text/plain": [
       "<matplotlib.image.AxesImage at 0x7efb1897dbe0>"
      ]
     },
     "execution_count": 136,
     "metadata": {},
     "output_type": "execute_result"
    },
    {
     "data": {
      "image/png": "[encoded data removed]",
      "text/plain": [
       "<Figure size 432x288 with 1 Axes>"
      ]
     },
     "metadata": {
      "needs_background": "light"
     },
     "output_type": "display_data"
    }
   ],
   "source": [
    "import matplotlib.pyplot as plt\n",
    "\n",
    "\n",
    "i += 1\n",
    "plt.imshow(np.transpose(raw, [2, 0, 1])[i])"
   ]
  },
  {
   "cell_type": "code",
   "execution_count": 130,
   "id": "48519f73",
   "metadata": {},
   "outputs": [
    {
     "data": {
      "text/plain": [
       "<matplotlib.image.AxesImage at 0x7efb18a1c7c0>"
      ]
     },
     "execution_count": 130,
     "metadata": {},
     "output_type": "execute_result"
    },
    {
     "data": {
      "image/png": "[encoded data removed]",
      "text/plain": [
       "<Figure size 432x288 with 1 Axes>"
      ]
     },
     "metadata": {
      "needs_background": "light"
     },
     "output_type": "display_data"
    }
   ],
   "source": [
    "i += 1\n",
    "plt.imshow(np.transpose(gt, [2, 0, 1])[i])"
   ]
  },
  {
   "cell_type": "code",
   "execution_count": 19,
   "id": "fa424c33",
   "metadata": {},
   "outputs": [
    {
     "name": "stdout",
     "output_type": "stream",
     "text": [
      "pair_304 done!\n",
      "pair_284 done!\n",
      "pair_19 done!\n",
      "pair_145 done!\n",
      "pair_62 done!\n",
      "pair_50 done!\n",
      "pair_338 done!\n",
      "pair_344 done!\n",
      "pair_22 done!\n",
      "pair_215 done!\n",
      "pair_25 done!\n",
      "pair_114 done!\n",
      "pair_329 done!\n",
      "pair_352 done!\n",
      "pair_128 done!\n",
      "pair_243 done!\n",
      "pair_4 done!\n",
      "pair_418 done!\n",
      "pair_231 done!\n",
      "pair_126 done!\n",
      "pair_315 done!\n",
      "pair_3 done!\n",
      "pair_330 done!\n",
      "pair_213 done!\n",
      "pair_394 done!\n",
      "pair_143 done!\n",
      "pair_228 done!\n",
      "pair_18 done!\n",
      "pair_16 done!\n",
      "pair_221 done!\n",
      "pair_305 done!\n",
      "pair_361 done!\n",
      "pair_242 done!\n",
      "pair_328 done!\n",
      "pair_40 done!\n",
      "pair_115 done!\n",
      "pair_78 done!\n",
      "pair_6 done!\n",
      "pair_123 done!\n",
      "pair_189 done!\n",
      "pair_365 done!\n",
      "pair_246 done!\n",
      "pair_297 done!\n",
      "pair_414 done!\n",
      "pair_118 done!\n",
      "pair_426 done!\n",
      "pair_36 done!\n",
      "pair_388 done!\n",
      "pair_116 done!\n",
      "pair_201 done!\n",
      "pair_334 done!\n",
      "pair_399 done!\n",
      "pair_217 done!\n",
      "pair_27 done!\n",
      "pair_219 done!\n",
      "pair_390 done!\n",
      "pair_175 done!\n",
      "pair_83 done!\n",
      "pair_191 done!\n",
      "pair_402 done!\n",
      "pair_147 done!\n",
      "pair_132 done!\n",
      "pair_427 done!\n",
      "pair_70 done!\n",
      "pair_318 done!\n",
      "pair_186 done!\n",
      "pair_240 done!\n",
      "pair_79 done!\n",
      "pair_311 done!\n",
      "pair_122 done!\n",
      "pair_14 done!\n",
      "pair_134 done!\n",
      "pair_13 done!\n",
      "pair_148 done!\n",
      "pair_309 done!\n",
      "pair_287 done!\n",
      "pair_141 done!\n",
      "pair_66 done!\n",
      "pair_404 done!\n",
      "pair_263 done!\n",
      "pair_174 done!\n"
     ]
    },
    {
     "ename": "ValueError",
     "evalue": "not enough values to unpack (expected 2, got 1)",
     "output_type": "error",
     "traceback": [
      "\u001b[0;31m---------------------------------------------------------------------------\u001b[0m",
      "\u001b[0;31mValueError\u001b[0m                                Traceback (most recent call last)",
      "\u001b[0;32m/tmp/ipykernel_354/1458032959.py\u001b[0m in \u001b[0;36m<module>\u001b[0;34m\u001b[0m\n\u001b[1;32m     10\u001b[0m     \u001b[0;32mif\u001b[0m \u001b[0;32mnot\u001b[0m \u001b[0mos\u001b[0m\u001b[0;34m.\u001b[0m\u001b[0mpath\u001b[0m\u001b[0;34m.\u001b[0m\u001b[0mexists\u001b[0m\u001b[0;34m(\u001b[0m\u001b[0;34mf\"./pairs/pair_{num}\"\u001b[0m\u001b[0;34m)\u001b[0m\u001b[0;34m:\u001b[0m\u001b[0;34m\u001b[0m\u001b[0;34m\u001b[0m\u001b[0m\n\u001b[1;32m     11\u001b[0m         \u001b[0mos\u001b[0m\u001b[0;34m.\u001b[0m\u001b[0mmkdir\u001b[0m\u001b[0;34m(\u001b[0m\u001b[0;34mf\"./pairs/pair_{num}\"\u001b[0m\u001b[0;34m)\u001b[0m\u001b[0;34m\u001b[0m\u001b[0;34m\u001b[0m\u001b[0m\n\u001b[0;32m---> 12\u001b[0;31m     \u001b[0mraw\u001b[0m\u001b[0;34m,\u001b[0m \u001b[0mgt\u001b[0m \u001b[0;34m=\u001b[0m \u001b[0mget_raw_gt\u001b[0m\u001b[0;34m(\u001b[0m\u001b[0mnum\u001b[0m\u001b[0;34m)\u001b[0m\u001b[0;34m\u001b[0m\u001b[0;34m\u001b[0m\u001b[0m\n\u001b[0m\u001b[1;32m     13\u001b[0m     \u001b[0;32mfor\u001b[0m \u001b[0mi\u001b[0m \u001b[0;32min\u001b[0m \u001b[0mrange\u001b[0m\u001b[0;34m(\u001b[0m\u001b[0mraw\u001b[0m\u001b[0;34m.\u001b[0m\u001b[0mshape\u001b[0m\u001b[0;34m[\u001b[0m\u001b[0;34m-\u001b[0m\u001b[0;36m1\u001b[0m\u001b[0;34m]\u001b[0m\u001b[0;34m)\u001b[0m\u001b[0;34m:\u001b[0m\u001b[0;34m\u001b[0m\u001b[0;34m\u001b[0m\u001b[0m\n\u001b[1;32m     14\u001b[0m         \u001b[0mraw_img\u001b[0m \u001b[0;34m=\u001b[0m \u001b[0mnp\u001b[0m\u001b[0;34m.\u001b[0m\u001b[0mtranspose\u001b[0m\u001b[0;34m(\u001b[0m\u001b[0mraw\u001b[0m\u001b[0;34m,\u001b[0m \u001b[0;34m[\u001b[0m\u001b[0;36m2\u001b[0m\u001b[0;34m,\u001b[0m \u001b[0;36m0\u001b[0m\u001b[0;34m,\u001b[0m \u001b[0;36m1\u001b[0m\u001b[0;34m]\u001b[0m\u001b[0;34m)\u001b[0m\u001b[0;34m[\u001b[0m\u001b[0mi\u001b[0m\u001b[0;34m]\u001b[0m\u001b[0;34m\u001b[0m\u001b[0;34m\u001b[0m\u001b[0m\n",
      "\u001b[0;32m/tmp/ipykernel_354/120915962.py\u001b[0m in \u001b[0;36mget_raw_gt\u001b[0;34m(n)\u001b[0m\n\u001b[1;32m      1\u001b[0m \u001b[0;32mdef\u001b[0m \u001b[0mget_raw_gt\u001b[0m\u001b[0;34m(\u001b[0m\u001b[0mn\u001b[0m\u001b[0;34m:\u001b[0m\u001b[0mstr\u001b[0m\u001b[0;34m)\u001b[0m\u001b[0;34m:\u001b[0m\u001b[0;34m\u001b[0m\u001b[0;34m\u001b[0m\u001b[0m\n\u001b[1;32m      2\u001b[0m     \u001b[0mraw\u001b[0m \u001b[0;34m=\u001b[0m \u001b[0mnib\u001b[0m\u001b[0;34m.\u001b[0m\u001b[0mload\u001b[0m\u001b[0;34m(\u001b[0m\u001b[0;34mf'{source}/{n}.nii'\u001b[0m\u001b[0;34m)\u001b[0m\u001b[0;34m.\u001b[0m\u001b[0mget_fdata\u001b[0m\u001b[0;34m(\u001b[0m\u001b[0;34m)\u001b[0m\u001b[0;34m\u001b[0m\u001b[0;34m\u001b[0m\u001b[0m\n\u001b[0;32m----> 3\u001b[0;31m     \u001b[0mgt\u001b[0m \u001b[0;34m=\u001b[0m \u001b[0mdataset\u001b[0m\u001b[0;34m.\u001b[0m\u001b[0mget_groundtruth\u001b[0m\u001b[0;34m(\u001b[0m\u001b[0mn\u001b[0m\u001b[0;34m)\u001b[0m\u001b[0;34m.\u001b[0m\u001b[0mtodense\u001b[0m\u001b[0;34m(\u001b[0m\u001b[0;34m)\u001b[0m\u001b[0;34m\u001b[0m\u001b[0;34m\u001b[0m\u001b[0m\n\u001b[0m\u001b[1;32m      4\u001b[0m     \u001b[0;31m#if gt.shape != raw.shape:\u001b[0m\u001b[0;34m\u001b[0m\u001b[0;34m\u001b[0m\u001b[0;34m\u001b[0m\u001b[0m\n\u001b[1;32m      5\u001b[0m      \u001b[0;31m#   raise Exception(f\"{n} is not happy\")\u001b[0m\u001b[0;34m\u001b[0m\u001b[0;34m\u001b[0m\u001b[0;34m\u001b[0m\u001b[0m\n",
      "\u001b[0;32m~/.local/lib/python3.9/site-packages/evalseg/io/dataset.py\u001b[0m in \u001b[0;36mget_groundtruth\u001b[0;34m(self, id)\u001b[0m\n\u001b[1;32m     77\u001b[0m \u001b[0;34m\u001b[0m\u001b[0m\n\u001b[1;32m     78\u001b[0m     \u001b[0;32mdef\u001b[0m \u001b[0mget_groundtruth\u001b[0m\u001b[0;34m(\u001b[0m\u001b[0mself\u001b[0m\u001b[0;34m,\u001b[0m \u001b[0mid\u001b[0m\u001b[0;34m)\u001b[0m \u001b[0;34m->\u001b[0m \u001b[0mSegmentArray\u001b[0m\u001b[0;34m:\u001b[0m\u001b[0;34m\u001b[0m\u001b[0;34m\u001b[0m\u001b[0m\n\u001b[0;32m---> 79\u001b[0;31m         \u001b[0;32mreturn\u001b[0m \u001b[0mself\u001b[0m\u001b[0;34m.\u001b[0m\u001b[0mget\u001b[0m\u001b[0;34m(\u001b[0m\u001b[0mGT\u001b[0m\u001b[0;34m,\u001b[0m \u001b[0mid\u001b[0m\u001b[0;34m)\u001b[0m\u001b[0;34m\u001b[0m\u001b[0;34m\u001b[0m\u001b[0m\n\u001b[0m\u001b[1;32m     80\u001b[0m \u001b[0;34m\u001b[0m\u001b[0m\n\u001b[1;32m     81\u001b[0m     \u001b[0;32mdef\u001b[0m \u001b[0mget_prediction\u001b[0m\u001b[0;34m(\u001b[0m\u001b[0mself\u001b[0m\u001b[0;34m,\u001b[0m \u001b[0mmethod\u001b[0m\u001b[0;34m,\u001b[0m \u001b[0mid\u001b[0m\u001b[0;34m)\u001b[0m \u001b[0;34m->\u001b[0m \u001b[0mSegmentArray\u001b[0m\u001b[0;34m:\u001b[0m\u001b[0;34m\u001b[0m\u001b[0;34m\u001b[0m\u001b[0m\n",
      "\u001b[0;32m~/.local/lib/python3.9/site-packages/evalseg/io/dataset.py\u001b[0m in \u001b[0;36mget\u001b[0;34m(self, typ, case, numpy_array)\u001b[0m\n\u001b[1;32m     63\u001b[0m             \u001b[0;32mreturn\u001b[0m \u001b[0mdata\u001b[0m\u001b[0;34m\u001b[0m\u001b[0;34m\u001b[0m\u001b[0m\n\u001b[1;32m     64\u001b[0m \u001b[0;34m\u001b[0m\u001b[0m\n\u001b[0;32m---> 65\u001b[0;31m         \u001b[0mdata_arr\u001b[0m\u001b[0;34m,\u001b[0m \u001b[0mvoxelsize\u001b[0m \u001b[0;34m=\u001b[0m \u001b[0mdata\u001b[0m\u001b[0;34m\u001b[0m\u001b[0;34m\u001b[0m\u001b[0m\n\u001b[0m\u001b[1;32m     66\u001b[0m         \u001b[0;32mreturn\u001b[0m \u001b[0mSegmentArray\u001b[0m\u001b[0;34m(\u001b[0m\u001b[0mdata_arr\u001b[0m\u001b[0;34m,\u001b[0m \u001b[0mvoxelsize\u001b[0m\u001b[0;34m,\u001b[0m \u001b[0mmulti_part\u001b[0m\u001b[0;34m=\u001b[0m\u001b[0mtyp\u001b[0m \u001b[0;34m!=\u001b[0m \u001b[0mCT\u001b[0m\u001b[0;34m)\u001b[0m\u001b[0;34m\u001b[0m\u001b[0;34m\u001b[0m\u001b[0m\n\u001b[1;32m     67\u001b[0m         \u001b[0;31m# if typ != CT and type(data) == tuple and type(data[0]) == np.ndarray:\u001b[0m\u001b[0;34m\u001b[0m\u001b[0;34m\u001b[0m\u001b[0;34m\u001b[0m\u001b[0m\n",
      "\u001b[0;31mValueError\u001b[0m: not enough values to unpack (expected 2, got 1)"
     ]
    }
   ],
   "source": [
    "task = 'Task001_LiverTumor'\n",
    "source = '../CT_with_pkl'\n",
    "if not os.path.exists(\"./pairs\"):\n",
    "    os.mkdir(\"./pairs\")\n",
    "\n",
    "for file in os.listdir(source):\n",
    "    raw_flag = False\n",
    "    gt_flag = False\n",
    "    num = file[0:len(file)-4]\n",
    "    if not os.path.exists(f\"./pairs/pair_{num}\"):\n",
    "        os.mkdir(f\"./pairs/pair_{num}\")\n",
    "    raw, gt = get_raw_gt(num)\n",
    "    for i in range(raw.shape[-1]):\n",
    "        raw_img = np.transpose(raw, [2, 0, 1])[i]\n",
    "        if not np.array_equal(raw_img, np.zeros(raw_img.shape)):\n",
    "            raw_flag = True\n",
    "    if raw_flag:\n",
    "        if not os.path.exists(f\"./pairs/pair_{num}/raw\"):\n",
    "            os.mkdir(f\"./pairs/pair_{num}/raw\")\n",
    "        for i in range(raw_img.shape[-1]):\n",
    "            if i < 99:\n",
    "                if i < 9:\n",
    "                    cv2.imwrite(f\"./pairs/pair_{num}/raw/{num}-00{i+1}.png\", raw_img)\n",
    "                else:\n",
    "                    cv2.imwrite(f\"./pairs/pair_{num}/raw/{num}-0{i+1}.png\", raw_img)\n",
    "            else:\n",
    "                cv2.imwrite(f\"./pairs/pair_{num}/raw/{num}-{i+1}.png\", raw_img)\n",
    "    for i in range(gt.shape[-1]):\n",
    "        gt_img = np.transpose(gt, [2, 0, 1])[i]\n",
    "        if not np.array_equal(gt_img, np.zeros(gt_img.shape)):\n",
    "            gt_flag = True\n",
    "    if gt_flag:\n",
    "        if not os.path.exists(f\"./pairs/pair_{num}/gt\"):\n",
    "            os.mkdir(f\"./pairs/pair_{num}/gt\")\n",
    "        for i in range(gt_img.shape[-1]):\n",
    "            if i < 99:\n",
    "                if i < 9:\n",
    "                    cv2.imwrite(f\"./pairs/pair_{num}/gt/{num}-00{i+1}.png\", gt_img)\n",
    "                else:\n",
    "                    cv2.imwrite(f\"./pairs/pair_{num}/gt/{num}-0{i+1}.png\", gt_img)\n",
    "            else:\n",
    "                cv2.imwrite(f\"./pairs/pair_{num}/gt/{num}-{i+1}.png\", gt_img)\n",
    "    print(f\"pair_{num} done!\")"
   ]
  },
  {
   "cell_type": "code",
   "execution_count": 5,
   "id": "f07fcc0d",
   "metadata": {},
   "outputs": [],
   "source": [
    "def get_gt(n:str):\n",
    "    gt = dataset.get_groundtruth(n).todense()\n",
    "    #if gt.shape != raw.shape:\n",
    "     #   raise Exception(f\"{n} is not happy\")\n",
    "    return gt"
   ]
  },
  {
   "cell_type": "code",
   "execution_count": null,
   "id": "33ffbb7e",
   "metadata": {},
   "outputs": [],
   "source": []
  }
 ],
 "metadata": {
  "kernelspec": {
   "display_name": "Python 3 (ipykernel)",
   "language": "python",
   "name": "python3"
  },
  "language_info": {
   "codemirror_mode": {
    "name": "ipython",
    "version": 3
   },
   "file_extension": ".py",
   "mimetype": "text/x-python",
   "name": "python",
   "nbconvert_exporter": "python",
   "pygments_lexer": "ipython3",
   "version": "3.9.5"
  }
 },
 "nbformat": 4,
 "nbformat_minor": 5
}
